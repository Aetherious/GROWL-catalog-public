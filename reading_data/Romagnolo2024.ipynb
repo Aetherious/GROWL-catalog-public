{
 "cells": [
  {
   "cell_type": "markdown",
   "id": "06c70960",
   "metadata": {},
   "source": [
    "# Code to read in StarTrack data from Romagnolo \n"
   ]
  },
  {
   "cell_type": "code",
   "execution_count": 13,
   "id": "22bd7990",
   "metadata": {},
   "outputs": [],
   "source": [
    "import re\n",
    "import pandas as pd\n",
    "import numpy as np\n",
    "\n",
    "# Cleaned column names (no 'skip_1', 'skip_2') + final 2 parsed from string\n",
    "column_names = [\n",
    "    't', 'Ka', 'Kb', 'Ma', 'Mb', 'a', 'e', 'ta_end', 'tb_end', 'inbin',\n",
    "    'a0', 'e0', 'Mzamsa', 'Mzamsb', 'idum_run', 'iidd_old',\n",
    "    'Tms', 'Tmr', 'Vsm0_0', 'Vsm0_1', 'Vsm0_2', 'Vsm_0', 'Vsm_1', 'Vsm_2',\n",
    "    'MpgaA', 'MpgbA', 'KpgaA', 'KpgbA', 'apgA', 'epgA', 'tpgA', 'MendaA', 'dMcea', 'ecssna',\n",
    "    'MpgaB', 'MpgbB', 'KpgaB', 'KpgbB', 'apgB', 'epgB', 'tpgB', 'MendbB', 'dMceb', 'ecssnb',\n",
    "    'aspina', 'aspinb', 'aspina0', 'aspinb0', 'i0', 'iA', 'iB', 'Mcoa', 'Mcob',\n",
    "    'twra', 'awra', 'ewra', 'Mwra', 'Mcoma', 'twrb', 'awrb', 'ewrb', 'Mwrb', 'Mcomb',\n",
    "    'a_0', 'e_0', 'i_0', 'Om_0', 'om_0', 'tau_0', 'a_0a', 'e_0a', 'i_0a', 'Om_0a', 'om_0a', 'tau_0a',\n",
    "    'a_1', 'e_1', 'i_1', 'Om_1', 'om_1', 'tau_1', 'a_2', 'e_2', 'i_2', 'Om_2', 'om_2', 'tau_2',\n",
    "    'jx0', 'jy0', 'jz0', 'jx1', 'jy1', 'jz1', 'jx2', 'jy2', 'jz2',\n",
    "    'ttms1a', 'tthg1a', 'ttrgb1a', 'ttcheb1a', 'ttagb1a', 'tthems1a', 'tthehg1a', 'tthergb1a',\n",
    "    'ttms1b', 'tthg1b', 'ttrgb1b', 'ttcheb1b', 'ttagb1b', 'tthems1b', 'tthehg1b', 'tthergb1b',\n",
    "    'nflags', 'flags'\n",
    "]\n",
    "\n",
    "# Original raw_column_units (without skip_1, skip_2) + added final two entries\n",
    "raw_column_units = [\n",
    "    'Myr', '#', '#', 'Msun', 'Msun', 'Rsun', '#', 'Myr', 'Myr', 'Myr',\n",
    "    'Msun', 'Msun', '#', '#',\n",
    "    'Myr', 'Myr', 'Rsun/day', 'Rsun/day', 'Rsun/day', 'Rsun/day', 'Rsun/day', 'Rsun/day',\n",
    "    'Msun', 'Msun', '#', '#', 'Rsun', '#', 'Myr', 'Msun', 'Msun', '#',\n",
    "    'Msun', 'Msun', '#', '#', 'Rsun', '#', 'Myr', 'Msun', 'Msun', '#',\n",
    "    '#', '#', '#', '#', 'rad', 'rad', 'rad', 'Msun', 'Msun',\n",
    "    'Myr', 'Rsun', '#', 'Msun', 'Msun', 'Myr', 'Rsun', '#', 'Msun', 'Msun',\n",
    "    'Rsun', '#', 'rad', 'Om_0', 'om_0', 'Myr', 'Rsun', '#', 'rad', 'rad', 'rad', 'Myr',\n",
    "    'Rsun', '#', 'rad', 'Om_1', 'om_1', 'Myr', 'Rsun', '#', 'rad', 'rad', 'rad', 'Myr',\n",
    "    'Msun*Rsun^2/day', 'Msun*Rsun^2/day', 'Msun*Rsun^2/day', 'Msun*Rsun^2/day', 'Msun*Rsun^2/day',\n",
    "    'Msun*Rsun^2/day', 'Msun*Rsun^2/day', 'Msun*Rsun^2/day', 'Msun*Rsun^2/day',\n",
    "    'Myr', 'Myr', 'Myr', 'Myr', 'Myr', 'Myr', 'Myr', 'Myr',\n",
    "    'Myr', 'Myr', 'Myr', 'Myr', 'Myr', 'Myr', 'Myr', 'Myr',\n",
    "     '#', 'string'\n",
    "]\n",
    "\n",
    "def parse_dat_file_to_dataframe(filepath):\n",
    "    with open(filepath, 'r') as f:\n",
    "        content = f.read()\n",
    "\n",
    "    # Each row is separated by a blank line\n",
    "    blocks = re.split(r'\\n\\s*\\n', content.strip())\n",
    "    parsed_rows = []\n",
    "\n",
    "    for block in blocks:\n",
    "        lines = block.strip().split('\\n')\n",
    "        if not lines:\n",
    "            continue\n",
    "\n",
    "        # Extract numerical values from all but the last line\n",
    "        values = []\n",
    "        for line in lines[:-1]:\n",
    "            tokens = line.strip().split()\n",
    "            for token in tokens:\n",
    "                try:\n",
    "                    values.append(float(token))\n",
    "                except ValueError:\n",
    "                    values.append(np.nan)\n",
    "\n",
    "        # Parse the final line: starts with number of flags, then strings\n",
    "        final_tokens = lines[-1].strip().split()\n",
    "        try:\n",
    "            nflags = int(final_tokens[0])\n",
    "            flags = ' '.join(final_tokens[1:1+nflags])\n",
    "        except (ValueError, IndexError):\n",
    "            nflags = 0\n",
    "            flags = ''\n",
    "\n",
    "        values += [nflags, flags]\n",
    "\n",
    "        # Pad if necessary\n",
    "        if len(values) < len(column_names):\n",
    "            values += [np.nan] * (len(column_names) - len(values))\n",
    "        values = values[:len(column_names)]\n",
    "\n",
    "        parsed_rows.append(values)\n",
    "\n",
    "    df = pd.DataFrame(parsed_rows, columns=column_names)\n",
    "    df.attrs['units'] = dict(zip(column_names, raw_column_units))\n",
    "    return df\n",
    "\n"
   ]
  },
  {
   "cell_type": "code",
   "execution_count": null,
   "id": "eae4a10d",
   "metadata": {},
   "outputs": [],
   "source": []
  },
  {
   "cell_type": "code",
   "execution_count": 14,
   "id": "99843520",
   "metadata": {},
   "outputs": [],
   "source": [
    "# lines that you will have to change \n",
    "path = '/Users/floorbroekgaarden/Downloads/GROWL/Romagnolo24/ST_ouput/default/' # you will have to change this to your local folder\n",
    "# filepath = \"/mnt/data/example_file_startrack.dat\"\n",
    "file_name = 'compact_0001.dat' # example of one of the files (but we can change this)\n",
    "\n"
   ]
  },
  {
   "cell_type": "code",
   "execution_count": 15,
   "id": "60d84173",
   "metadata": {},
   "outputs": [
    {
     "name": "stdout",
     "output_type": "stream",
     "text": [
      "           t    Ka    Kb         Ma         Mb             a         e  \\\n",
      "0  11.708709  14.0  14.0  11.414257   4.357860     11.394120  0.349769   \n",
      "1   4.769680  14.0  14.0  31.051682  22.275211  97231.857539  0.029125   \n",
      "2   5.084995  14.0  14.0  37.215386  25.029006   1154.709717  0.004119   \n",
      "3   4.969125  14.0  14.0  47.678754  31.764784    291.470700  0.004136   \n",
      "4   5.171991  14.0  14.0  20.900415  19.077695   2671.941739  0.001107   \n",
      "\n",
      "     ta_end     tb_end  inbin  ...     ttms1b     tthg1b  ttrgb1b   ttcheb1b  \\\n",
      "0  7.038558  11.708708    1.0  ...  10.840801  10.857242     -1.0  11.660618   \n",
      "1  4.223470   4.769679    1.0  ...   4.369367   4.373377     -1.0   4.585052   \n",
      "2  3.926147   5.084994    1.0  ...   4.706962   4.710495     -1.0   4.899530   \n",
      "3  3.637252   4.969124    1.0  ...   4.637975   4.640623     -1.0   4.640683   \n",
      "4  5.072463   5.171990    1.0  ...   4.736727   4.741116     -1.0   5.060168   \n",
      "\n",
      "   ttagb1b   tthems1b   tthehg1b  tthergb1b  nflags  \\\n",
      "0     -1.0  11.675136  11.707915       -1.0       4   \n",
      "1     -1.0   4.767909  -1.000000       -1.0       2   \n",
      "2     -1.0   5.082515  -1.000000       -1.0       5   \n",
      "3     -1.0   4.965987  -1.000000       -1.0       4   \n",
      "4     -1.0   5.167760  -1.000000       -1.0       4   \n",
      "\n",
      "                                 flags  \n",
      "0      MT1(4-1) SN1 CE2(14-4;14-7) SN2  \n",
      "1                              SN1 SN2  \n",
      "2  MT1(2-1) MT1(4-1) SN1 MT2(14-4) SN2  \n",
      "3           MT1(2-1) SN1 MT2(14-2) SN2  \n",
      "4            MT1(4-4) MT2(7-4) SN1 SN2  \n",
      "\n",
      "[5 rows x 114 columns]\n",
      "\n",
      "Units for Ma: Msun\n"
     ]
    }
   ],
   "source": [
    "# read in the data \n",
    "\n",
    "filepath = path+file_name\n",
    "df = parse_dat_file_to_dataframe(filepath)\n",
    "\n",
    "print(df.head())\n",
    "\n",
    "# example for how to obtain units \n",
    "print(\"\\nUnits for Ma:\", df.attrs[\"units\"]['Ma'])\n",
    "\n",
    "# to convert dataset to csv:\n",
    "# df.to_csv(\"parsed_startrack_data.csv\", index=False)\n",
    "\n"
   ]
  },
  {
   "cell_type": "code",
   "execution_count": 16,
   "id": "93066be0",
   "metadata": {},
   "outputs": [
    {
     "name": "stdout",
     "output_type": "stream",
     "text": [
      "[11.414257 31.051682 37.215386 ... 11.869893 38.841533 18.363017]\n",
      "[ 4.35786  22.275211 25.029006 ...  8.444063 20.447119 20.369935]\n"
     ]
    }
   ],
   "source": [
    "# Plot some data \n",
    "\n",
    "M1 = df['Ma'].values # 'final mass of star 1 that was the more massive one on ZAMS in [Msun]'\n",
    "print(M1)\n",
    "\n",
    "M2 = df['Mb'].values ## 'final mass of star 1 that was the more massive one on ZAMS in [Msun]' [double chekc]\n",
    "print(M2)\n"
   ]
  },
  {
   "cell_type": "code",
   "execution_count": null,
   "id": "3700fadc",
   "metadata": {},
   "outputs": [],
   "source": []
  },
  {
   "cell_type": "markdown",
   "id": "67b907c5",
   "metadata": {},
   "source": [
    "## let's do some plotting "
   ]
  },
  {
   "cell_type": "code",
   "execution_count": 17,
   "id": "94b8aed1",
   "metadata": {},
   "outputs": [],
   "source": [
    "import matplotlib.pyplot as plt\n",
    "\n"
   ]
  },
  {
   "cell_type": "code",
   "execution_count": 26,
   "id": "186c7ce3",
   "metadata": {},
   "outputs": [
    {
     "data": {
      "image/png": "[encoded data removed]",
      "text/plain": [
       "<Figure size 600x400 with 1 Axes>"
      ]
     },
     "metadata": {},
     "output_type": "display_data"
    }
   ],
   "source": [
    "f, ax= plt.subplots(ncols=1,nrows=1, figsize=(6,4))\n",
    "ax.hist(M1, bins=60)\n",
    "ax.set_xlabel('Mass M1 $[M_{\\odot}]$', fontsize=16)\n",
    "ax.set_ylabel('Number', fontsize=16)\n",
    "ax.set_yscale('log')\n",
    "\n",
    "plt.show()\n",
    "\n"
   ]
  },
  {
   "cell_type": "code",
   "execution_count": null,
   "id": "6a940a4a",
   "metadata": {},
   "outputs": [],
   "source": []
  },
  {
   "cell_type": "markdown",
   "id": "aeaf8ee0",
   "metadata": {},
   "source": [
    "## Fancy Fancy plotting (in case you are interested) "
   ]
  },
  {
   "cell_type": "code",
   "execution_count": 19,
   "id": "cd59a11a",
   "metadata": {},
   "outputs": [],
   "source": [
    "import astropy.constants as c\n",
    "import astropy.units  as u\n",
    "\n",
    "## you can undo the lines below (but it will be fun for making fancy plots!)\n",
    "# to make the lines below work, you have to download the file 'PostProcessingScripts' from https://github.com/FloorBroekgaarden/common_code\n",
    "# and put this in the same directory as this one, and then only use the bottom line from this code below \n",
    "import sys\n",
    "sys.path.append('../../common_code') \n",
    "from PostProcessingScripts import * \n",
    "\n"
   ]
  },
  {
   "cell_type": "markdown",
   "id": "a1fe6805",
   "metadata": {},
   "source": [
    "### example usage of layoutAxes to make fancy plots"
   ]
  },
  {
   "cell_type": "code",
   "execution_count": 25,
   "id": "8433bf75",
   "metadata": {},
   "outputs": [
    {
     "data": {
      "image/png": "[encoded data removed]",
      "text/plain": [
       "<Figure size 600x400 with 1 Axes>"
      ]
     },
     "metadata": {},
     "output_type": "display_data"
    }
   ],
   "source": [
    "f, ax= plt.subplots(ncols=1,nrows=1, figsize=(6,4))\n",
    "ax.hist(M1, bins=60)\n",
    "\n",
    "#make fancy plot: \n",
    "fontsize=16\n",
    "xlabel = r'$\\textbf{Compact object mass}$ $M_1$ $[M_{\\odot}]$'\n",
    "ylabel = r'$\\textbf{d}N/\\textbf{d}M_1$'\n",
    "layoutAxes(ax=ax, nameX=xlabel, nameY=ylabel, fontsize=18) # this line is where the magic happens\n",
    "\n",
    "ax.set_yscale('log')\n",
    "\n",
    "plt.show()"
   ]
  },
  {
   "cell_type": "code",
   "execution_count": null,
   "id": "a1c33334",
   "metadata": {},
   "outputs": [],
   "source": []
  }
 ],
 "metadata": {
  "kernelspec": {
   "display_name": "Python 3 (ipykernel)",
   "language": "python",
   "name": "python3"
  },
  "language_info": {
   "codemirror_mode": {
    "name": "ipython",
    "version": 3
   },
   "file_extension": ".py",
   "mimetype": "text/x-python",
   "name": "python",
   "nbconvert_exporter": "python",
   "pygments_lexer": "ipython3",
   "version": "3.9.16"
  }
 },
 "nbformat": 4,
 "nbformat_minor": 5
}
