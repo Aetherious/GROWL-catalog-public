{
 "cells": [
  {
   "cell_type": "code",
   "execution_count": 1,
   "id": "372ff5bf",
   "metadata": {},
   "outputs": [
    {
     "data": {
      "text/html": [
       "<style>.container { width:100% !important; }</style>"
      ],
      "text/plain": [
       "<IPython.core.display.HTML object>"
      ]
     },
     "metadata": {},
     "output_type": "display_data"
    }
   ],
   "source": [
    "import numpy as np\n",
    "import matplotlib.pyplot as plt\n",
    "import h5py as h5\n",
    "\n",
    "## you can undo the lines below (but it will be fun for making fancy plots!)\n",
    "# to make the lines below work, you have to download the file 'PostProcessingScripts' from https://github.com/FloorBroekgaarden/common_code\n",
    "# and put this in the same directory as this one, and then only use the bottom line from this code below \n",
    "import sys\n",
    "\n",
    "# from PostProcessingScripts import * \n",
    "\n",
    "# to make the screen wider\n",
    "from IPython.display import display, HTML\n",
    "display(HTML(\"<style>.container { width:100% !important; }</style>\"))\n",
    "\n",
    "\n"
   ]
  },
  {
   "cell_type": "code",
   "execution_count": null,
   "id": "393ba7e4",
   "metadata": {},
   "outputs": [],
   "source": [
    "\n"
   ]
  },
  {
   "cell_type": "markdown",
   "id": "d48fac75",
   "metadata": {},
   "source": [
    "## lets first take a quick look at the data"
   ]
  },
  {
   "cell_type": "code",
   "execution_count": 2,
   "id": "7d07452b",
   "metadata": {},
   "outputs": [],
   "source": [
    "# For you the part '/Volumes/Andromeda/DATA/AllDCO_bugfix/fiducial/' is probably different\n",
    "\n",
    "path = '/Volumes/GROWL/Boesky24/alpha0_1beta0_25/'\n",
    "file_name = 'COMPAS_Output_Weighted.h5'\n",
    "\n",
    "full_path = path + file_name\n",
    "fdata = h5.File(full_path, 'r')\n",
    "\n"
   ]
  },
  {
   "cell_type": "code",
   "execution_count": 3,
   "id": "95702c20",
   "metadata": {},
   "outputs": [
    {
     "name": "stdout",
     "output_type": "stream",
     "text": [
      "<KeysViewHDF5 ['Add_Options_To_SysParms', 'Allow_Immediate_RLOF>CE_To_Survive_CE', 'Allow_MS_To_Survive_CE', 'Allow_Non_Stripped_ECSN', 'Allow_RLOF@Birth', 'Allow_Radiative_Envelope_To_Survive_CE', 'Allow_Touching@Birth', 'BB_Mass_xFer_Stblty_Prscrptn', 'BH_Kicks', 'CE_Alpha', 'CE_Alpha_Thermal', 'CE_Lambda', 'CE_Lambda_Multiplier', 'CE_Lambda_Prscrptn', 'CE_Mass_Accr_Constant', 'CE_Mass_Accr_Max', 'CE_Mass_Accr_Min', 'CE_Mass_Accr_Prscrptn', 'CE_Recomb_Enrgy_Dnsty', 'CE_Slope_Kruckow', 'CHE_Mode', 'CH_on_MS(1)', 'CH_on_MS(2)', 'Check_Photon_Tiring_Limit', 'Circularise@MT', 'Conserve_AngMom@Circ', 'Cool_WindMassLoss_Multipl', 'Eccentricity', 'Eccentricity@ZAMS', 'Eccentricity_Dstrbtn', 'Eccentricity_Dstrbtn_Max', 'Eccentricity_Dstrbtn_Min', 'Eddington_Accr_Factor', 'Envelope_State_Prscrptn', 'Equilibrated_At_Birth', 'Error', 'Evolution_Mode', 'Fryer22_crit_COcore_Mass', 'Fryer22_mixing_fraction', 'Fryer_SN_Engine', 'Initial_Mass', 'Initial_Mass(1)', 'Initial_Mass(2)', 'Initial_Mass_Func_Max', 'Initial_Mass_Func_Min', 'Initial_Mass_Func_Power', 'Initial_Mass_Function', 'Kick_Direction_Dstrbtn', 'Kick_Direction_Power', 'Kick_Magnitude', 'Kick_Magnitude(1)', 'Kick_Magnitude(2)', 'Kick_Magnitude_Dstrbtn', 'Kick_Magnitude_Dstrbtn_Max', 'Kick_Magnitude_Random', 'Kick_Magnitude_Random(1)', 'Kick_Magnitude_Random(2)', 'Kick_Mean_Anomaly(1)', 'Kick_Mean_Anomaly(2)', 'Kick_Phi(1)', 'Kick_Phi(2)', 'Kick_Scaling_Factor', 'Kick_Theta(1)', 'Kick_Theta(2)', 'LBV_Factor', 'LBV_Mass_Loss_Prscrptn', 'MCBUR1', 'MM_Kick_Multiplier_BH', 'MM_Kick_Multiplier_NS', 'MM_Sigma_Kick', 'MT_Acc_Efficiency_Prscrptn', 'MT_AngMom_Loss_Prscrptn', 'MT_Fraction_Accreted', 'MT_JLoss', 'MT_JLoss_Macleod_Linear_Frac', 'MT_Rejuvenation_Prscrptn', 'MT_Thermal_Limit_C', 'MT_Thermally_Lmtd_Variation', 'Mass@ZAMS(1)', 'Mass@ZAMS(2)', 'Mass_Loss_Prscrptn', 'Mass_Ratio', 'Mass_Ratio_Dstrbtn', 'Mass_Ratio_Dstrbtn_Max', 'Mass_Ratio_Dstrbtn_Min', 'Max_Donor_Mass', 'Max_Evolution_Time', 'Max_NS_Mass', 'Max_Timesteps', 'Merger', 'Merger_At_Birth', 'Metallicity', 'Metallicity@ZAMS(1)', 'Metallicity@ZAMS(2)', 'Metallicity_Dstrbtn', 'Metallicity_Dstrbtn_Max', 'Metallicity_Dstrbtn_Min', 'Min_Secondary_Mass', 'NS_EOS', 'Neutrino_Mass_Loss_Assmptn', 'Neutrino_Mass_Loss_Value', 'Omega@ZAMS(1)', 'Omega@ZAMS(2)', 'Orbital_Period', 'Orbital_Period_Dstrbtn', 'Orbital_Period_Max', 'Orbital_Period_Min', 'Overall_WindMassLoss_Multipl', 'PISN_Lower_Limit', 'PISN_Upper_Limit', 'PPI_Lower_Limit', 'PPI_Prscrptn', 'PPI_Upper_Limit', 'Pulsar_Mag_Field_Decay_mScale', 'Pulsar_Mag_Field_Decay_tScale', 'Pulsar_Mag_Field_Dstrbtn', 'Pulsar_Mag_Field_Dstrbtn_Max', 'Pulsar_Mag_Field_Dstrbtn_Min', 'Pulsar_Minimum_Mag_Field', 'Pulsar_Spin_Period_Dstrbtn', 'Pulsar_Spin_Period_Dstrbtn_Max', 'Pulsar_Spin_Period_Dstrbtn_Min', 'Remnant_Mass_Prscrptn', 'Rotational_Frequency', 'Rotational_Frequency(1)', 'Rotational_Frequency(2)', 'Rotational_Velocity_Dstrbtn', 'SEED', 'SEED(CMDLINE)', 'SEED(OPTION)', 'SN_Kick_Magnitude_Random_Number(1)', 'SN_Kick_Magnitude_Random_Number(2)', 'Semi-Major_Axis', 'Semi-Major_Axis_Dstrbtn', 'Semi-Major_Axis_Dstrbtn_Max', 'Semi-Major_Axis_Dstrbtn_Min', 'Semi-Major_Axis_Dstrbtn_Power', 'SemiMajorAxis@ZAMS', 'Sigma_Kick_CCSN_BH', 'Sigma_Kick_CCSN_NS', 'Sigma_Kick_ECSN', 'Sigma_Kick_USSN', 'Stellar_Type(1)', 'Stellar_Type(2)', 'Stellar_Type@ZAMS(1)', 'Stellar_Type@ZAMS(2)', 'Stellar_Zeta_Prscrptn', 'Unbound', 'WR_Factor', 'Zeta_Adiabatic_Arbitrary', 'Zeta_Main_Sequence', 'Zeta_Radiative_Envelope_Giant', 'mixture_weight']>\n"
     ]
    }
   ],
   "source": [
    "print(fdata['BSE_System_Parameters'].keys())\n"
   ]
  },
  {
   "cell_type": "code",
   "execution_count": 4,
   "id": "9283d7b4",
   "metadata": {},
   "outputs": [
    {
     "name": "stdout",
     "output_type": "stream",
     "text": [
      "\n",
      "Keys in Run_Details: ['Actual-Random-Seed', 'Actual-Random-Seed-Derivation', 'COMPAS-Version', 'COMPAS-Version-Derivation', 'Clock-Time', 'Clock-Time-Derivation', 'Objects-Created', 'Objects-Created-Derivation', 'Objects-Requested', 'Objects-Requested-Derivation', 'PISN-lower-limit', 'PISN-lower-limit-Derivation', 'PISN-upper-limit', 'PISN-upper-limit-Derivation', 'PPI-lower-limit', 'PPI-lower-limit-Derivation', 'PPI-upper-limit', 'PPI-upper-limit-Derivation', 'Run-End', 'Run-End-Derivation', 'Run-Start', 'Run-Start-Derivation', 'Wall-Time', 'Wall-Time-Derivation', 'actual-output-path', 'actual-output-path-Derivation', 'add-options-to-sysparms', 'add-options-to-sysparms-Derivation', 'allow-non-stripped-ECSN', 'allow-non-stripped-ECSN-Derivation', 'allow-rlof-at-birth', 'allow-rlof-at-birth-Derivation', 'allow-touching-at-birth', 'allow-touching-at-birth-Derivation', 'angular-momentum-conservation-during-circularisation', 'angular-momentum-conservation-during-circularisation-Derivation', 'black-hole-kicks', 'black-hole-kicks-Derivation', 'case-BB-stability-prescription', 'case-BB-stability-prescription-Derivation', 'check-photon-tiring-limit', 'check-photon-tiring-limit-Derivation', 'chemically-homogeneous-evolution', 'chemically-homogeneous-evolution-Derivation', 'circularise-binary-during-mass-transfer', 'circularise-binary-during-mass-transfer-Derivation', 'common-envelope-allow-immediate-RLOF-post-CE-survive', 'common-envelope-allow-immediate-RLOF-post-CE-survive-Derivation', 'common-envelope-allow-main-sequence-survive', 'common-envelope-allow-main-sequence-survive-Derivation', 'common-envelope-allow-radiative-envelope-survive', 'common-envelope-allow-radiative-envelope-survive-Derivation', 'common-envelope-alpha', 'common-envelope-alpha-Derivation', 'common-envelope-alpha-thermal', 'common-envelope-alpha-thermal-Derivation', 'common-envelope-lambda', 'common-envelope-lambda-Derivation', 'common-envelope-lambda-multiplier', 'common-envelope-lambda-multiplier-Derivation', 'common-envelope-lambda-nanjing-enhanced', 'common-envelope-lambda-nanjing-enhanced-Derivation', 'common-envelope-lambda-nanjing-interpolate-in-mass', 'common-envelope-lambda-nanjing-interpolate-in-mass-Derivation', 'common-envelope-lambda-nanjing-interpolate-in-metallicity', 'common-envelope-lambda-nanjing-interpolate-in-metallicity-Derivation', 'common-envelope-lambda-nanjing-use-rejuvenated-mass', 'common-envelope-lambda-nanjing-use-rejuvenated-mass-Derivation', 'common-envelope-lambda-prescription', 'common-envelope-lambda-prescription-Derivation', 'common-envelope-mass-accretion-constant', 'common-envelope-mass-accretion-constant-Derivation', 'common-envelope-mass-accretion-max', 'common-envelope-mass-accretion-max-Derivation', 'common-envelope-mass-accretion-min', 'common-envelope-mass-accretion-min-Derivation', 'common-envelope-mass-accretion-prescription', 'common-envelope-mass-accretion-prescription-Derivation', 'common-envelope-recombination-energy-density', 'common-envelope-recombination-energy-density-Derivation', 'common-envelope-slope-kruckow', 'common-envelope-slope-kruckow-Derivation', 'cool-wind-mass-loss-multiplier', 'cool-wind-mass-loss-multiplier-Derivation', 'debug-classes', 'debug-classes-Derivation', 'debug-level', 'debug-level-Derivation', 'debug-to-file', 'debug-to-file-Derivation', 'detailed-output', 'detailed-output-Derivation', 'eccentricity', 'eccentricity-Derivation', 'eccentricity-distribution', 'eccentricity-distribution-Derivation', 'eccentricity-max', 'eccentricity-max-Derivation', 'eccentricity-min', 'eccentricity-min-Derivation', 'eddington-accretion-factor', 'eddington-accretion-factor-Derivation', 'enable-warnings', 'enable-warnings-Derivation', 'envelope-state-prescription', 'envelope-state-prescription-Derivation', 'errors-to-file', 'errors-to-file-Derivation', 'evolve-pulsars', 'evolve-pulsars-Derivation', 'evolve-unbound-systems', 'evolve-unbound-systems-Derivation', 'fix-dimensionless-kick-magnitude', 'fix-dimensionless-kick-magnitude-Derivation', 'fixedRandomSeed', 'fixedRandomSeed-Derivation', 'fryer-22-fmix', 'fryer-22-fmix-Derivation', 'fryer-22-mcrit', 'fryer-22-mcrit-Derivation', 'fryer-supernova-engine', 'fryer-supernova-engine-Derivation', 'grid', 'grid-Derivation', 'grid-lines-to-process', 'grid-lines-to-process-Derivation', 'grid-start-line', 'grid-start-line-Derivation', 'hdf5-buffer-size', 'hdf5-buffer-size-Derivation', 'hdf5-chunk-size', 'hdf5-chunk-size-Derivation', 'help', 'help-Derivation', 'hmxr-binaries', 'hmxr-binaries-Derivation', 'initial-mass', 'initial-mass-1', 'initial-mass-1-Derivation', 'initial-mass-2', 'initial-mass-2-Derivation', 'initial-mass-Derivation', 'initial-mass-function', 'initial-mass-function-Derivation', 'initial-mass-max', 'initial-mass-max-Derivation', 'initial-mass-min', 'initial-mass-min-Derivation', 'initial-mass-power', 'initial-mass-power-Derivation', 'kick-direction', 'kick-direction-Derivation', 'kick-direction-power', 'kick-direction-power-Derivation', 'kick-magnitude', 'kick-magnitude-1', 'kick-magnitude-1-Derivation', 'kick-magnitude-2', 'kick-magnitude-2-Derivation', 'kick-magnitude-Derivation', 'kick-magnitude-distribution', 'kick-magnitude-distribution-Derivation', 'kick-magnitude-max', 'kick-magnitude-max-Derivation', 'kick-magnitude-random', 'kick-magnitude-random-1', 'kick-magnitude-random-1-Derivation', 'kick-magnitude-random-2', 'kick-magnitude-random-2-Derivation', 'kick-magnitude-random-Derivation', 'kick-magnitude-sigma-CCSN-BH', 'kick-magnitude-sigma-CCSN-BH-Derivation', 'kick-magnitude-sigma-CCSN-NS', 'kick-magnitude-sigma-CCSN-NS-Derivation', 'kick-magnitude-sigma-ECSN', 'kick-magnitude-sigma-ECSN-Derivation', 'kick-magnitude-sigma-USSN', 'kick-magnitude-sigma-USSN-Derivation', 'kick-mean-anomaly-1', 'kick-mean-anomaly-1-Derivation', 'kick-mean-anomaly-2', 'kick-mean-anomaly-2-Derivation', 'kick-phi-1', 'kick-phi-1-Derivation', 'kick-phi-2', 'kick-phi-2-Derivation', 'kick-scaling-factor', 'kick-scaling-factor-Derivation', 'kick-theta-1', 'kick-theta-1-Derivation', 'kick-theta-2', 'kick-theta-2-Derivation', 'log-classes', 'log-classes-Derivation', 'log-level', 'log-level-Derivation', 'logfile-common-envelopes', 'logfile-common-envelopes-Derivation', 'logfile-definitions', 'logfile-definitions-Derivation', 'logfile-detailed-output', 'logfile-detailed-output-Derivation', 'logfile-double-compact-objects', 'logfile-double-compact-objects-Derivation', 'logfile-name-prefix', 'logfile-name-prefix-Derivation', 'logfile-pulsar-evolution', 'logfile-pulsar-evolution-Derivation', 'logfile-rlof-parameters', 'logfile-rlof-parameters-Derivation', 'logfile-supernovae', 'logfile-supernovae-Derivation', 'logfile-switch-log', 'logfile-switch-log-Derivation', 'logfile-system-parameters', 'logfile-system-parameters-Derivation', 'logfile-type', 'logfile-type-Derivation', 'luminous-blue-variable-multiplier', 'luminous-blue-variable-multiplier-Derivation', 'luminous-blue-variable-prescription', 'luminous-blue-variable-prescription-Derivation', 'mass-loss-prescription', 'mass-loss-prescription-Derivation', 'mass-ratio', 'mass-ratio-Derivation', 'mass-ratio-distribution', 'mass-ratio-distribution-Derivation', 'mass-ratio-max', 'mass-ratio-max-Derivation', 'mass-ratio-min', 'mass-ratio-min-Derivation', 'mass-transfer', 'mass-transfer-Derivation', 'mass-transfer-accretion-efficiency-prescription', 'mass-transfer-accretion-efficiency-prescription-Derivation', 'mass-transfer-angular-momentum-loss-prescription', 'mass-transfer-angular-momentum-loss-prescription-Derivation', 'mass-transfer-fa', 'mass-transfer-fa-Derivation', 'mass-transfer-jloss', 'mass-transfer-jloss-Derivation', 'mass-transfer-jloss-macleod-linear-fraction', 'mass-transfer-jloss-macleod-linear-fraction-Derivation', 'mass-transfer-rejuvenation-prescription', 'mass-transfer-rejuvenation-prescription-Derivation', 'mass-transfer-thermal-limit-C', 'mass-transfer-thermal-limit-C-Derivation', 'mass-transfer-thermal-limit-accretor', 'mass-transfer-thermal-limit-accretor-Derivation', 'maximum-evolution-time', 'maximum-evolution-time-Derivation', 'maximum-mass-donor-nandez-ivanova', 'maximum-mass-donor-nandez-ivanova-Derivation', 'maximum-neutron-star-mass', 'maximum-neutron-star-mass-Derivation', 'maximum-number-timestep-iterations', 'maximum-number-timestep-iterations-Derivation', 'mcbur1', 'mcbur1-Derivation', 'metallicity', 'metallicity-Derivation', 'metallicity-distribution', 'metallicity-distribution-Derivation', 'metallicity-max', 'metallicity-max-Derivation', 'metallicity-min', 'metallicity-min-Derivation', 'minimum-secondary-mass', 'minimum-secondary-mass-Derivation', 'mode', 'mode-Derivation', 'muller-mandel-kick-multiplier-BH', 'muller-mandel-kick-multiplier-BH-Derivation', 'muller-mandel-kick-multiplier-NS', 'muller-mandel-kick-multiplier-NS-Derivation', 'muller-mandel-sigma-kick', 'muller-mandel-sigma-kick-Derivation', 'neutrino-mass-loss-BH-formation', 'neutrino-mass-loss-BH-formation-Derivation', 'neutrino-mass-loss-BH-formation-value', 'neutrino-mass-loss-BH-formation-value-Derivation', 'neutron-star-equation-of-state', 'neutron-star-equation-of-state-Derivation', 'notes', 'notes-Derivation', 'notes-hdrs', 'notes-hdrs-Derivation', 'number-of-systems', 'number-of-systems-Derivation', 'orbital-period', 'orbital-period-Derivation', 'orbital-period-distribution', 'orbital-period-distribution-Derivation', 'orbital-period-max', 'orbital-period-max-Derivation', 'orbital-period-min', 'orbital-period-min-Derivation', 'output-container', 'output-container-Derivation', 'output-path', 'output-path-Derivation', 'overall-wind-mass-loss-multiplier', 'overall-wind-mass-loss-multiplier-Derivation', 'pair-instability-supernovae', 'pair-instability-supernovae-Derivation', 'population-data-printing', 'population-data-printing-Derivation', 'print-bool-as-string', 'print-bool-as-string-Derivation', 'pulsar-birth-magnetic-field-distribution', 'pulsar-birth-magnetic-field-distribution-Derivation', 'pulsar-birth-magnetic-field-distribution-max', 'pulsar-birth-magnetic-field-distribution-max-Derivation', 'pulsar-birth-magnetic-field-distribution-min', 'pulsar-birth-magnetic-field-distribution-min-Derivation', 'pulsar-birth-spin-period-distribution', 'pulsar-birth-spin-period-distribution-Derivation', 'pulsar-birth-spin-period-distribution-max', 'pulsar-birth-spin-period-distribution-max-Derivation', 'pulsar-birth-spin-period-distribution-min', 'pulsar-birth-spin-period-distribution-min-Derivation', 'pulsar-magnetic-field-decay-massscale', 'pulsar-magnetic-field-decay-massscale-Derivation', 'pulsar-magnetic-field-decay-timescale', 'pulsar-magnetic-field-decay-timescale-Derivation', 'pulsar-minimum-magnetic-field', 'pulsar-minimum-magnetic-field-Derivation', 'pulsational-pair-instability', 'pulsational-pair-instability-Derivation', 'pulsational-pair-instability-prescription', 'pulsational-pair-instability-prescription-Derivation', 'quiet', 'quiet-Derivation', 'random-seed', 'random-seed-Derivation', 'remnant-mass-prescription', 'remnant-mass-prescription-Derivation', 'retain-core-mass-during-caseA-mass-transfer', 'retain-core-mass-during-caseA-mass-transfer-Derivation', 'revised-energy-formalism-nandez-ivanova', 'revised-energy-formalism-nandez-ivanova-Derivation', 'rlof-printing', 'rlof-printing-Derivation', 'rotational-frequency', 'rotational-frequency-1', 'rotational-frequency-1-Derivation', 'rotational-frequency-2', 'rotational-frequency-2-Derivation', 'rotational-frequency-Derivation', 'rotational-velocity-distribution', 'rotational-velocity-distribution-Derivation', 'semi-major-axis', 'semi-major-axis-Derivation', 'semi-major-axis-distribution', 'semi-major-axis-distribution-Derivation', 'semi-major-axis-max', 'semi-major-axis-max-Derivation', 'semi-major-axis-min', 'semi-major-axis-min-Derivation', 'stellar-zeta-prescription', 'stellar-zeta-prescription-Derivation', 'store-input-files', 'store-input-files-Derivation', 'switch-log', 'switch-log-Derivation', 'timestep-multiplier', 'timestep-multiplier-Derivation', 'use-mass-loss', 'use-mass-loss-Derivation', 'useFixedUK', 'useFixedUK-Derivation', 'version', 'version-Derivation', 'wolf-rayet-multiplier', 'wolf-rayet-multiplier-Derivation', 'zeta-adiabatic-arbitrary', 'zeta-adiabatic-arbitrary-Derivation', 'zeta-main-sequence', 'zeta-main-sequence-Derivation', 'zeta-radiative-envelope-giant', 'zeta-radiative-envelope-giant-Derivation']\n"
     ]
    }
   ],
   "source": [
    "print()\n",
    "print(\"Keys in Run_Details:\", list(fdata['Run_Details'].keys()))\n",
    "\n",
    "\n"
   ]
  },
  {
   "cell_type": "code",
   "execution_count": 5,
   "id": "316752f7",
   "metadata": {},
   "outputs": [
    {
     "name": "stdout",
     "output_type": "stream",
     "text": [
      "0.0001\n",
      "semi-major-axis-max  =  1000.0\n",
      "semi-major-axis-min  =  0.01\n",
      "minimum-secondary-mass  =  0.1\n",
      "mass-ratio-min  =  0.01\n",
      "mass-ratio-max  =  1.0\n",
      "initial-mass-max  =  150.0\n",
      "initial-mass-min  =  5.0\n"
     ]
    }
   ],
   "source": [
    "print(fdata['Run_Details']['metallicity-min'][()][0])\n",
    "metallicity_min = fdata['Run_Details']['metallicity-min'][()][0]\n",
    "\n",
    "\n",
    "for param in ['semi-major-axis-max', 'semi-major-axis-min', 'minimum-secondary-mass', 'mass-ratio-min', 'mass-ratio-max',  'initial-mass-max', 'initial-mass-min']:\n",
    "    param_val = fdata['Run_Details'][param][()][0]\n",
    "    print(param, ' = ', param_val)\n",
    "    \n"
   ]
  },
  {
   "cell_type": "markdown",
   "id": "5dc7bb62",
   "metadata": {},
   "source": [
    "## From hereon is really where we calculate the formation efficiency "
   ]
  },
  {
   "cell_type": "code",
   "execution_count": 6,
   "id": "31e0e4e9",
   "metadata": {},
   "outputs": [],
   "source": [
    "# This function below is copied from GROWL-catalog-public/CosmicIntegration/cosmic_integration/totalMassEvolvedPerZ.py\n",
    "\n",
    "def analytical_star_forming_mass_per_binary_using_kroupa_imf(\n",
    "        m1_min, m1_max, m2_min, fbin=1., imf_mass_bounds=[0.01,0.08,0.5,200]\n",
    "):\n",
    "    \"\"\"\n",
    "    Analytical computation of the mass of stars formed per binary star formed within the\n",
    "    [m1 min, m1 max] and [m2 min, ..] rage,\n",
    "    using the Kroupa IMF:\n",
    "\n",
    "        p(M) \\propto M^-0.3 for M between m1 and m2\n",
    "        p(M) \\propto M^-1.3 for M between m2 and m3;\n",
    "        p(M) = alpha * M^-2.3 for M between m3 and m4;\n",
    "\n",
    "    @Ilya Mandel's derivation\n",
    "    \"\"\"\n",
    "    m1, m2, m3, m4 = imf_mass_bounds\n",
    "    if m1_min < m3:\n",
    "        raise ValueError(f\"This analytical derivation requires IMF break m3  < m1_min ({m3} !< {m1_min})\")\n",
    "    alpha = (-(m4**(-1.3)-m3**(-1.3))/1.3 - (m3**(-0.3)-m2**(-0.3))/(m3*0.3) + (m2**0.7-m1**0.7)/(m2*m3*0.7))**(-1)\n",
    "    # average mass of stars (average mass of all binaries is a factor of 1.5 larger)\n",
    "    m_avg = alpha * (-(m4**(-0.3)-m3**(-0.3))/0.3 + (m3**0.7-m2**0.7)/(m3*0.7) + (m2**1.7-m1**1.7)/(m2*m3*1.7))\n",
    "    # fraction of binaries that COMPAS simulates\n",
    "    fint = -alpha / 1.3 * (m1_max ** (-1.3) - m1_min ** (-1.3)) + alpha * m2_min / 2.3 * (m1_max ** (-2.3) - m1_min ** (-2.3))\n",
    "    # mass represented by each binary simulated by COMPAS\n",
    "    m_rep = (1/fint) * m_avg * (1.5 + (1-fbin)/fbin)\n",
    "    return m_rep\n",
    "\n"
   ]
  },
  {
   "cell_type": "code",
   "execution_count": null,
   "id": "43d6a3c9",
   "metadata": {},
   "outputs": [],
   "source": []
  },
  {
   "cell_type": "code",
   "execution_count": 7,
   "id": "05c54f05",
   "metadata": {},
   "outputs": [
    {
     "name": "stdout",
     "output_type": "stream",
     "text": [
      "1 binary in COMPAS represents 79.11015055714887  solar masses formed\n",
      "20000000\n",
      "1582203011.1429775  [Msun]\n"
     ]
    }
   ],
   "source": [
    "# COMPAS saves the distribution assumptions, fbin comes from https://arxiv.org/pdf/2405.01630 \n",
    "# we dont have to correct for separation as this is already \n",
    "initial_mass_min = fdata['Run_Details']['initial-mass-min'][()][0]\n",
    "initial_mass_max = fdata['Run_Details']['initial-mass-max'][()][0] \n",
    "minimum_secondary_mass = fdata['Run_Details']['minimum-secondary-mass'][()][0] \n",
    "f_binary = 1\n",
    "\n",
    "\n",
    "m_rep_per_binary = analytical_star_forming_mass_per_binary_using_kroupa_imf(m1_min=initial_mass_min, m1_max=initial_mass_max,\\\n",
    "                                                                            m2_min=minimum_secondary_mass, fbin=f_binary)\n",
    "\n",
    "\n",
    "print('1 binary in COMPAS represents', m_rep_per_binary, ' solar masses formed')\n",
    "\n",
    "# now calculate the number of binaries in COMPAS simulation (over the entire simulation)\n",
    "n_binaries = np.shape(fdata['BSE_System_Parameters']['SEED'][()])[0]\n",
    "print(n_binaries)\n",
    "\n",
    "\n",
    "total_mass_evolved_compas = n_binaries * m_rep_per_binary\n",
    "print(total_mass_evolved_compas, ' [Msun]')\n"
   ]
  },
  {
   "cell_type": "markdown",
   "id": "76cf1677",
   "metadata": {},
   "source": [
    "### now lets assign and plot the formation efficiencies:\n",
    "\n"
   ]
  },
  {
   "cell_type": "code",
   "execution_count": 8,
   "id": "e66474f4",
   "metadata": {},
   "outputs": [
    {
     "name": "stdout",
     "output_type": "stream",
     "text": [
      "<KeysViewHDF5 ['Coalescence_Time', 'Eccentricity@DCO', 'Mass(1)', 'Mass(2)', 'Merges_Hubble_Time', 'Recycled_NS(1)', 'Recycled_NS(2)', 'SEED', 'SemiMajorAxis@DCO', 'Stellar_Type(1)', 'Stellar_Type(2)', 'Time', 'mixture_weight']>\n"
     ]
    }
   ],
   "source": [
    "print(fdata['BSE_Double_Compact_Objects'].keys())"
   ]
  },
  {
   "cell_type": "code",
   "execution_count": 9,
   "id": "17d5fef7",
   "metadata": {},
   "outputs": [
    {
     "name": "stdout",
     "output_type": "stream",
     "text": [
      "total DCOs in file =  4881951 total DCOs we mask =  2521170\n",
      "with metallicities =  [0.00103274 0.00062708 0.00113757 ... 0.00047619 0.00147745 0.00225284]\n"
     ]
    }
   ],
   "source": [
    "Stellar_Type1 = fdata['BSE_Double_Compact_Objects']['Stellar_Type(1)'][()]\n",
    "Stellar_Type2 = fdata['BSE_Double_Compact_Objects']['Stellar_Type(2)'][()]\n",
    "Merges_Hubble_Time = fdata['BSE_Double_Compact_Objects']['Merges_Hubble_Time'][()]\n",
    "\n",
    "BBH_mask = (Stellar_Type1==14) & (Stellar_Type2==14) & (Merges_Hubble_Time==True)\n",
    "print('total DCOs in file = ', len(BBH_mask), 'total DCOs we mask = ', np.sum(BBH_mask)) # to check how many we are cutting :) \n",
    "\n",
    "\n",
    "mask_sys_BBHs = np.in1d(fdata['BSE_System_Parameters']['SEED'][()], fdata['BSE_Double_Compact_Objects']['SEED'][()][BBH_mask])\n",
    "metallicity_BBHs = (fdata['BSE_System_Parameters']['Metallicity@ZAMS(1)'][()][mask_sys_BBHs])\n",
    "print('with metallicities = ', metallicity_BBHs)\n",
    "\n",
    "mixture_weight = fdata['BSE_Double_Compact_Objects']['mixture_weight'][()][BBH_mask]\n",
    "\n",
    "formation_efficiencies = mixture_weight/total_mass_evolved_compas\n",
    "\n",
    "\n"
   ]
  },
  {
   "cell_type": "markdown",
   "id": "90714488",
   "metadata": {},
   "source": [
    "### plot the formation efficiency"
   ]
  },
  {
   "cell_type": "code",
   "execution_count": 10,
   "id": "267c6405",
   "metadata": {},
   "outputs": [
    {
     "data": {
      "image/png": "[encoded data removed]",
      "text/plain": [
       "<Figure size 640x480 with 1 Axes>"
      ]
     },
     "metadata": {},
     "output_type": "display_data"
    }
   ],
   "source": [
    "fs=18\n",
    "\n",
    "hist, bin_edges = np.histogram(np.log10(metallicity_BBHs/0.0142), weights=formation_efficiencies, bins=40, density=True)\n",
    "\n",
    "bin_centers = (bin_edges[0:-1] + bin_edges[1:])/2\n",
    "normalization = np.sum(formation_efficiencies)\n",
    "\n",
    "plt.plot(bin_centers, hist*normalization, lw=3)\n",
    "\n",
    "\n",
    "plt.yscale('log')\n",
    "plt.ylim(10**-8, 10**-3.5)\n",
    "\n",
    "plt.ylabel(r'Formation efficiency $\\eta \\ [M_{\\odot}]$', fontsize=fs)\n",
    "plt.xlabel(r'Metallicity $\\log_{10}(Z/Z_{\\odot})$', fontsize=fs)\n",
    "plt.show()"
   ]
  },
  {
   "cell_type": "code",
   "execution_count": 11,
   "id": "aabc59f7",
   "metadata": {},
   "outputs": [],
   "source": [
    "fdata.close()"
   ]
  },
  {
   "cell_type": "markdown",
   "id": "60cdae6c",
   "metadata": {},
   "source": [
    "This actually looks different (lower) compared to https://arxiv.org/pdf/2405.01623 (figure 3 orange line with circles). I think actually adam's plot might be slightly wrong (wrong normalization with the histogram bins. He probably didnt normalize for this"
   ]
  },
  {
   "cell_type": "code",
   "execution_count": null,
   "id": "f0411292",
   "metadata": {},
   "outputs": [],
   "source": []
  }
 ],
 "metadata": {
  "kernelspec": {
   "display_name": "Python 3 (ipykernel)",
   "language": "python",
   "name": "python3"
  },
  "language_info": {
   "codemirror_mode": {
    "name": "ipython",
    "version": 3
   },
   "file_extension": ".py",
   "mimetype": "text/x-python",
   "name": "python",
   "nbconvert_exporter": "python",
   "pygments_lexer": "ipython3",
   "version": "3.9.16"
  }
 },
 "nbformat": 4,
 "nbformat_minor": 5
}
