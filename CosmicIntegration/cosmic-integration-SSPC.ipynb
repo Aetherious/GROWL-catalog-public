{
 "cells": [
  {
   "cell_type": "code",
   "execution_count": 1,
   "id": "cf4edda2",
   "metadata": {},
   "outputs": [],
   "source": [
    "import pandas as pd\n",
    "import numpy as np\n",
    "import matplotlib.pyplot as plt\n",
    "\n",
    "import astropy.constants as c\n",
    "import astropy.units  as u\n",
    "\n",
    "## you can undo the lines below (but it will be fun for making fancy plots!)\n",
    "# to make the lines below work, you have to download the file 'PostProcessingScripts' from https://github.com/FloorBroekgaarden/common_code\n",
    "# and put this in the same directory as this one, and then only use the bottom line from this code below \n",
    "import sys\n",
    "sys.path.append('../../common_code') \n",
    "from PostProcessingScripts import * "
   ]
  },
  {
   "cell_type": "code",
   "execution_count": 2,
   "id": "e14a8e92",
   "metadata": {},
   "outputs": [
    {
     "data": {
      "text/html": [
       "<style>.container { width:100% !important; }</style>"
      ],
      "text/plain": [
       "<IPython.core.display.HTML object>"
      ]
     },
     "metadata": {},
     "output_type": "display_data"
    }
   ],
   "source": [
    "# to make the screen wider\n",
    "from IPython.display import display, HTML\n",
    "display(HTML(\"<style>.container { width:100% !important; }</style>\"))"
   ]
  },
  {
   "cell_type": "markdown",
   "id": "f4f4d4f2",
   "metadata": {},
   "source": [
    "## Installing SSPC from source, see https://synthetic-stellar-pop-convolve.readthedocs.io/en/latest/"
   ]
  },
  {
   "cell_type": "code",
   "execution_count": 7,
   "id": "5b3ae20f",
   "metadata": {},
   "outputs": [
    {
     "name": "stdout",
     "output_type": "stream",
     "text": [
      "Defaulting to user installation because normal site-packages is not writeable\n",
      "Requirement already satisfied: syntheticstellarpopconvolve in /Users/floorbroekgaarden/Library/Python/3.11/lib/python/site-packages (0.3)\n",
      "Requirement already satisfied: h5py in /Library/Frameworks/Python.framework/Versions/3.11/lib/python3.11/site-packages (from syntheticstellarpopconvolve) (3.10.0)\n",
      "Requirement already satisfied: astropy in /Library/Frameworks/Python.framework/Versions/3.11/lib/python3.11/site-packages (from syntheticstellarpopconvolve) (6.0.0)\n",
      "Requirement already satisfied: pandas in /Library/Frameworks/Python.framework/Versions/3.11/lib/python3.11/site-packages (from syntheticstellarpopconvolve) (2.2.1)\n",
      "Requirement already satisfied: numpy in /Library/Frameworks/Python.framework/Versions/3.11/lib/python3.11/site-packages (from syntheticstellarpopconvolve) (1.24.4)\n",
      "Requirement already satisfied: voluptuous in /Users/floorbroekgaarden/Library/Python/3.11/lib/python/site-packages (from syntheticstellarpopconvolve) (0.15.2)\n",
      "Requirement already satisfied: scipy in /Library/Frameworks/Python.framework/Versions/3.11/lib/python3.11/site-packages (from syntheticstellarpopconvolve) (1.9.3)\n",
      "Requirement already satisfied: setproctitle in /Users/floorbroekgaarden/Library/Python/3.11/lib/python/site-packages (from syntheticstellarpopconvolve) (1.3.6)\n",
      "Requirement already satisfied: psutil in /Library/Frameworks/Python.framework/Versions/3.11/lib/python3.11/site-packages (from syntheticstellarpopconvolve) (5.9.4)\n",
      "Requirement already satisfied: tables in /Library/Frameworks/Python.framework/Versions/3.11/lib/python3.11/site-packages (from syntheticstellarpopconvolve) (3.9.2)\n",
      "Requirement already satisfied: simplejson in /Users/floorbroekgaarden/Library/Python/3.11/lib/python/site-packages (from syntheticstellarpopconvolve) (3.20.1)\n",
      "Requirement already satisfied: halo in /Users/floorbroekgaarden/Library/Python/3.11/lib/python/site-packages (from syntheticstellarpopconvolve) (0.0.31)\n",
      "Requirement already satisfied: pyerfa>=2.0 in /Library/Frameworks/Python.framework/Versions/3.11/lib/python3.11/site-packages (from astropy->syntheticstellarpopconvolve) (2.0.0.1)\n",
      "Requirement already satisfied: astropy-iers-data>=0.2023.10.30.0.29.53 in /Library/Frameworks/Python.framework/Versions/3.11/lib/python3.11/site-packages (from astropy->syntheticstellarpopconvolve) (0.2024.4.15.2.45.49)\n",
      "Requirement already satisfied: PyYAML>=3.13 in /Library/Frameworks/Python.framework/Versions/3.11/lib/python3.11/site-packages (from astropy->syntheticstellarpopconvolve) (6.0)\n",
      "Requirement already satisfied: packaging>=19.0 in /Library/Frameworks/Python.framework/Versions/3.11/lib/python3.11/site-packages (from astropy->syntheticstellarpopconvolve) (23.0)\n",
      "Requirement already satisfied: log_symbols>=0.0.14 in /Users/floorbroekgaarden/Library/Python/3.11/lib/python/site-packages (from halo->syntheticstellarpopconvolve) (0.0.14)\n",
      "Requirement already satisfied: spinners>=0.0.24 in /Users/floorbroekgaarden/Library/Python/3.11/lib/python/site-packages (from halo->syntheticstellarpopconvolve) (0.0.24)\n",
      "Requirement already satisfied: termcolor>=1.1.0 in /Users/floorbroekgaarden/Library/Python/3.11/lib/python/site-packages (from halo->syntheticstellarpopconvolve) (3.1.0)\n",
      "Requirement already satisfied: colorama>=0.3.9 in /Users/floorbroekgaarden/Library/Python/3.11/lib/python/site-packages (from halo->syntheticstellarpopconvolve) (0.4.6)\n",
      "Requirement already satisfied: six>=1.12.0 in /Library/Frameworks/Python.framework/Versions/3.11/lib/python3.11/site-packages (from halo->syntheticstellarpopconvolve) (1.16.0)\n",
      "Requirement already satisfied: python-dateutil>=2.8.2 in /Library/Frameworks/Python.framework/Versions/3.11/lib/python3.11/site-packages (from pandas->syntheticstellarpopconvolve) (2.8.2)\n",
      "Requirement already satisfied: pytz>=2020.1 in /Library/Frameworks/Python.framework/Versions/3.11/lib/python3.11/site-packages (from pandas->syntheticstellarpopconvolve) (2022.7)\n",
      "Requirement already satisfied: tzdata>=2022.7 in /Library/Frameworks/Python.framework/Versions/3.11/lib/python3.11/site-packages (from pandas->syntheticstellarpopconvolve) (2024.1)\n",
      "Requirement already satisfied: numexpr>=2.6.2 in /Library/Frameworks/Python.framework/Versions/3.11/lib/python3.11/site-packages (from tables->syntheticstellarpopconvolve) (2.10.0)\n",
      "Requirement already satisfied: py-cpuinfo in /Library/Frameworks/Python.framework/Versions/3.11/lib/python3.11/site-packages (from tables->syntheticstellarpopconvolve) (9.0.0)\n",
      "Requirement already satisfied: blosc2>=2.3.0 in /Library/Frameworks/Python.framework/Versions/3.11/lib/python3.11/site-packages (from tables->syntheticstellarpopconvolve) (2.6.2)\n",
      "Requirement already satisfied: ndindex>=1.4 in /Library/Frameworks/Python.framework/Versions/3.11/lib/python3.11/site-packages (from blosc2>=2.3.0->tables->syntheticstellarpopconvolve) (1.8)\n",
      "Requirement already satisfied: msgpack in /Library/Frameworks/Python.framework/Versions/3.11/lib/python3.11/site-packages (from blosc2>=2.3.0->tables->syntheticstellarpopconvolve) (1.0.8)\n",
      "\n",
      "\u001b[1m[\u001b[0m\u001b[34;49mnotice\u001b[0m\u001b[1;39;49m]\u001b[0m\u001b[39;49m A new release of pip is available: \u001b[0m\u001b[31;49m25.0.1\u001b[0m\u001b[39;49m -> \u001b[0m\u001b[32;49m25.2\u001b[0m\n",
      "\u001b[1m[\u001b[0m\u001b[34;49mnotice\u001b[0m\u001b[1;39;49m]\u001b[0m\u001b[39;49m To update, run: \u001b[0m\u001b[32;49mpip install --upgrade pip\u001b[0m\n"
     ]
    }
   ],
   "source": [
    "# to install uncomment the following & run this line\n",
    "pip install syntheticstellarpopconvolve # is the old version "
   ]
  },
  {
   "cell_type": "markdown",
   "id": "d7299565",
   "metadata": {},
   "source": [
    "### Note about installing issues that I had on MacOS & their fixes: \n",
    "\n",
    "\n",
    "Cosmic Integration SSPC \n",
    "\n",
    "\n",
    "\n",
    "What I had to do to make the installation from GitHub Work:\n",
    "\n",
    "\n",
    "(1) distutils is deprecated in Python 3.10, so in my case it threw an error about installing this package (which happens in setup.py; \n",
    "\n",
    "You can fix this by doing the following (source: https://stackoverflow.com/questions/69919970/no-module-named-distutils-util-but-distutils-is-installed):\n",
    "\n",
    "    python3 -m venv path/to/venv\n",
    "    source path/to/venv/bin/activate\n",
    "    python3 -m pip install xyz\n",
    "\n",
    "\n",
    "(2) it throws me an error called `FileNotFoundError: [Errno 2] No such file or directory: '/Users/floorbroekgaarden/Projects/GitHub/syntheticstellarpopconvolve/dist/syntheticstellarpopconvolve-.tar.gz’` because VERSION\\_NUMBER is not defined. This is because in ```instal.sh``` the “grep -oP” -P is not recognized.  This should be instead something else. But for now I fixed it by opening `install.sh` and adding a line \n",
    "```VERSION\\_NUMBER=$\"0.4\" # fix for now ``` under VERSION_NUMBER=$(grep -oP '__version__ = \"\\K[^\"]+' syntheticstellarpopconvolve/_version.py | awk '{print $1}') \n",
    "\n",
    "\n",
    "\n",
    "python3 -m venv sspc_env \n",
    "source sspc_env/bin/activate\n"
   ]
  },
  {
   "cell_type": "code",
   "execution_count": null,
   "id": "3b13fab7",
   "metadata": {},
   "outputs": [],
   "source": []
  },
  {
   "cell_type": "markdown",
   "id": "e41a627d",
   "metadata": {},
   "source": [
    "### Example from the website"
   ]
  },
  {
   "cell_type": "code",
   "execution_count": null,
   "id": "21b75521",
   "metadata": {},
   "outputs": [],
   "source": []
  },
  {
   "cell_type": "markdown",
   "id": "d582115e",
   "metadata": {},
   "source": [
    "### To make this work I had to download \n",
    "```https://gitlab.com/dhendriks/syntheticstellarpopconvolve/-/blob/master/syntheticstellarpopconvolve/example_data/example_data_usecase_gw.h5```\n",
    "and "
   ]
  },
  {
   "cell_type": "code",
   "execution_count": 18,
   "id": "34293695",
   "metadata": {},
   "outputs": [
    {
     "ename": "NameError",
     "evalue": "name 'generate_boilerplate_outputfile' is not defined",
     "output_type": "error",
     "traceback": [
      "\u001b[0;31m---------------------------------------------------------------------------\u001b[0m",
      "\u001b[0;31mNameError\u001b[0m                                 Traceback (most recent call last)",
      "Cell \u001b[0;32mIn[18], line 18\u001b[0m\n\u001b[1;32m     16\u001b[0m \u001b[38;5;66;03m# Create instance of output\u001b[39;00m\n\u001b[1;32m     17\u001b[0m output_hdf5_filename \u001b[38;5;241m=\u001b[39m os\u001b[38;5;241m.\u001b[39mpath\u001b[38;5;241m.\u001b[39mjoin(TMP_DIR, \u001b[38;5;124m\"\u001b[39m\u001b[38;5;124moutput_example.h5\u001b[39m\u001b[38;5;124m\"\u001b[39m)\n\u001b[0;32m---> 18\u001b[0m \u001b[43mgenerate_boilerplate_outputfile\u001b[49m(output_hdf5_filename)\n\u001b[1;32m     20\u001b[0m \u001b[38;5;66;03m# SET UP DATA\u001b[39;00m\n\u001b[1;32m     21\u001b[0m example_data \u001b[38;5;241m=\u001b[39m {\n\u001b[1;32m     22\u001b[0m     \u001b[38;5;124m\"\u001b[39m\u001b[38;5;124mdelay_time\u001b[39m\u001b[38;5;124m\"\u001b[39m: np\u001b[38;5;241m.\u001b[39marray([\u001b[38;5;241m0\u001b[39m, \u001b[38;5;241m1\u001b[39m, \u001b[38;5;241m2\u001b[39m, \u001b[38;5;241m3\u001b[39m]),\n\u001b[1;32m     23\u001b[0m     \u001b[38;5;124m\"\u001b[39m\u001b[38;5;124mvalue\u001b[39m\u001b[38;5;124m\"\u001b[39m: np\u001b[38;5;241m.\u001b[39marray([\u001b[38;5;241m3\u001b[39m, \u001b[38;5;241m2\u001b[39m, \u001b[38;5;241m1\u001b[39m, \u001b[38;5;241m0\u001b[39m]),\n\u001b[1;32m     24\u001b[0m     \u001b[38;5;124m\"\u001b[39m\u001b[38;5;124mprobability\u001b[39m\u001b[38;5;124m\"\u001b[39m: np\u001b[38;5;241m.\u001b[39marray([\u001b[38;5;241m1\u001b[39m, \u001b[38;5;241m2\u001b[39m, \u001b[38;5;241m3\u001b[39m, \u001b[38;5;241m4\u001b[39m]),\n\u001b[1;32m     25\u001b[0m }\n",
      "\u001b[0;31mNameError\u001b[0m: name 'generate_boilerplate_outputfile' is not defined"
     ]
    }
   ],
   "source": [
    "import os, copy, h5py\n",
    "import sys\n",
    "sys.path.append('/Users/floorbroekgaarden/Projects/GitHub/syntheticstellarpopconvolve/syntheticstellarpopconvolve') \n",
    "\n",
    "\n",
    "import astropy.units as u\n",
    "import numpy as np\n",
    "import pandas as pd\n",
    "from syntheticstellarpopconvolve import convolve, default_convolution_config #, default_convolution_instruction\n",
    "from syntheticstellarpopconvolve.general_functions import * # temp_dir # generate_boilerplate_outputfile,extract_unit_dict, \n",
    "\n",
    "TMP_DIR = temp_dir(\n",
    "    \"examples\", \"minimal_working_example\", clean_path=True\n",
    ")\n",
    "\n",
    "# Create instance of output\n",
    "output_hdf5_filename = os.path.join(TMP_DIR, \"output_example.h5\")\n",
    "generate_boilerplate_outputfile(output_hdf5_filename)\n",
    "\n",
    "# SET UP DATA\n",
    "example_data = {\n",
    "    \"delay_time\": np.array([0, 1, 2, 3]),\n",
    "    \"value\": np.array([3, 2, 1, 0]),\n",
    "    \"probability\": np.array([1, 2, 3, 4]),\n",
    "}\n",
    "example_df = pd.DataFrame.from_records(example_data)\n",
    "example_df.to_hdf(output_hdf5_filename, key=\"input_data/example\")\n",
    "\n",
    "# Set up global configuration\n",
    "convolution_config = copy.copy(default_convolution_config)\n",
    "convolution_config[\"output_filename\"] = output_hdf5_filename\n",
    "\n",
    "# Set up SFR\n",
    "convolution_config[\"SFR_info\"] = {\n",
    "    \"lookback_time_bin_edges\": np.array([0, 1, 2, 3, 4, 5]) * u.yr,\n",
    "    \"starformation_rate_array\": np.array([1, 2, 3, 4, 5]) * u.Msun / u.yr\n",
    "}\n",
    "\n",
    "# set up convolution bin edges\n",
    "convolution_config[\"convolution_lookback_time_bin_edges\"] = (\n",
    "    np.array([0, 1]) * u.yr\n",
    ")\n",
    "\n",
    "# Set up the convolution instructions\n",
    "convolution_config[\"convolution_instructions\"] = [\n",
    "    {\n",
    "        **default_convolution_instruction,\n",
    "        \"input_data_name\": \"example\",\n",
    "        \"output_data_name\": \"example\",\n",
    "        \"data_column_dict\": {\n",
    "            \"delay_time\": \"delay_time\",\n",
    "            \"normalized_yield\": {\"column_name\": \"probability\", \"unit\": 1/u.Msun},\n",
    "        },\n",
    "    }\n",
    "]\n",
    "\n",
    "# run convolution\n",
    "convolve(convolution_config)\n",
    "\n",
    "# read out results\n",
    "with h5py.File(\n",
    "    convolution_config[\"output_filename\"], \"r\"\n",
    ") as output_hdf5file:\n",
    "    groupname = \"output_data/example/example/convolution_results/0.5 yr/\"\n",
    "\n",
    "    data = output_hdf5file[groupname + \"/yield\"][()]\n",
    "    unit_dict = extract_unit_dict(output_hdf5file, groupname)\n",
    "\n",
    "    print(data)"
   ]
  },
  {
   "cell_type": "code",
   "execution_count": null,
   "id": "d2b22569",
   "metadata": {},
   "outputs": [],
   "source": []
  }
 ],
 "metadata": {
  "kernelspec": {
   "display_name": "Python 3 (ipykernel)",
   "language": "python",
   "name": "python3"
  },
  "language_info": {
   "codemirror_mode": {
    "name": "ipython",
    "version": 3
   },
   "file_extension": ".py",
   "mimetype": "text/x-python",
   "name": "python",
   "nbconvert_exporter": "python",
   "pygments_lexer": "ipython3",
   "version": "3.9.16"
  }
 },
 "nbformat": 4,
 "nbformat_minor": 5
}
